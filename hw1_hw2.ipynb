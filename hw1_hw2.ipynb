{
 "cells": [
  {
   "cell_type": "code",
   "execution_count": 14,
   "id": "4ba6f7d8-934a-4bfc-a237-9db19e5be0f8",
   "metadata": {},
   "outputs": [
    {
     "name": "stdout",
     "output_type": "stream",
     "text": [
      "Customer One Items:\n",
      " Lovely Loveseat. Tufted polyester blend on wood. 32 inches high x 40 inches wide x 30 inches deep. Red or white. Luxurious Lamp. Glass and iron. 36 inches tall. Brown with cream shade. \n",
      "\n",
      "Customer One Total:\n",
      " 333.09119999999996\n"
     ]
    }
   ],
   "source": [
    "# 과제 1\n",
    "\n",
    "# 가구명, 가격 할당 (1~2)\n",
    "lovely_loveseat_description = \"Lovely Loveseat. Tufted polyester blend on wood. 32 inches high x 40 inches wide x 30 inches deep. Red or white. \"\n",
    "lovely_loveseat_price = 254.00\n",
    "\n",
    "# 가구명, 가격 할당 (3~4)\n",
    "stylish_settee_description = \"Stylish Settee. Faux leather on birch. 29.50 inches high x 54.75 inches wide x 28 inches deep. Black.\"\n",
    "stylish_settee_price = 180.50\n",
    "\n",
    "# 가구명, 가격 할당 (5~6)\n",
    "luxurious_lamp_description = \"Luxurious Lamp. Glass and iron. 36 inches tall. Brown with cream shade.\"\n",
    "luxurious_lamp_price = 52.15\n",
    "\n",
    "# 세금 할당(7)\n",
    "sales_tax = .088\n",
    "\n",
    "# 첫번째 고객 정보 설정 (8~9)\n",
    "customer_one_total = 0\n",
    "customer_one_itemization = \"\"\n",
    "\n",
    "# 구매한 가구 가격 계산, 설명 추가 (10~11)\n",
    "customer_one_total = lovely_loveseat_price\n",
    "customer_one_itemization = lovely_loveseat_description\n",
    "\n",
    "# 구매한 램프 가격 계산, 설명 추가 (12~13)\n",
    "customer_one_total += luxurious_lamp_price\n",
    "customer_one_itemization += luxurious_lamp_description\n",
    "\n",
    "# 구매한 가격의 세금 계산 (14)\n",
    "customer_one_tax = customer_one_total * sales_tax\n",
    "\n",
    "# 총 가격 계산 (15)\n",
    "customer_one_total += customer_one_tax\n",
    "\n",
    "# 구매한 가구의 모든 설명 출력, 총 가격 출력 (16~19)\n",
    "print(\"Customer One Items:\\n\", customer_one_itemization,'\\n')\n",
    "print(\"Customer One Total:\\n\", customer_one_total)"
   ]
  },
  {
   "cell_type": "code",
   "execution_count": 24,
   "id": "2990613b-ff44-4a1b-b74c-6dfd56ea81de",
   "metadata": {},
   "outputs": [
    {
     "name": "stdout",
     "output_type": "stream",
     "text": [
      "[['physics', 98], ['calculus', 97], ['poetry', 85], ['history', 88]] \n",
      "\n",
      "[['physics', 98], ['calculus', 97], ['poetry', 85], ['history', 88], ['computer science', 100], ['visual arts', 93]] \n",
      "\n",
      "[['physics', 98], ['calculus', 97], ['poetry', 'Pass'], ['history', 88], ['computer science', 100], ['visual arts', 98]] \n",
      "\n",
      "[['politics', 80], ['latin', 96], ['dance', 97], ['architecture', 65], ['physics', 98], ['calculus', 97], ['poetry', 'Pass'], ['history', 88], ['computer science', 100], ['visual arts', 98]]\n"
     ]
    }
   ],
   "source": [
    "# 과제 2\n",
    "\n",
    "# 과목, 성적 리스트 생성 (1~2)\n",
    "subjects = ['physics', 'calculus', 'poetry', 'history']\n",
    "grades = [98, 97, 85, 88]\n",
    "\n",
    "# 과목 & 성적 결합한 2차원 리스트 생성 및 출력 (3~4)\n",
    "gradebook = [['physics', 98], ['calculus', 97], ['poetry', 85], ['history', 88]]\n",
    "print(gradebook,'\\n')\n",
    "\n",
    "# 새로운 과목, 성적 리스트에 추가 및 출력 (5~6)\n",
    "gradebook.append(['computer science', 100])\n",
    "gradebook.append(['visual arts', 93])\n",
    "print(gradebook, '\\n')\n",
    "\n",
    "# visual arts 점수 5점 추가\n",
    "gradebook[5][1] += 5\n",
    "\n",
    "# poetry 리스트에서 삭제\n",
    "gradebook.remove(['poetry', 85])\n",
    "\n",
    "# poetry 있던 자리에 pass 성적 추가\n",
    "gradebook.insert(2, ['poetry', 'Pass'])\n",
    "print(gradebook, '\\n')\n",
    "\n",
    "# 마지막 학기 리스트 생성\n",
    "last_semester_gradebook = [[\"politics\", 80], [\"latin\", 96], [\"dance\", 97], [\"architecture\", 65]]\n",
    "\n",
    "# 지난 학기, 이번 학기 성적 합산 및 출력\n",
    "full_gradebook = last_semester_gradebook + gradebook\n",
    "print(full_gradebook)\n"
   ]
  },
  {
   "cell_type": "code",
   "execution_count": null,
   "id": "a069d2be-2ed3-43b8-8148-d18ca5b4f009",
   "metadata": {},
   "outputs": [],
   "source": []
  }
 ],
 "metadata": {
  "kernelspec": {
   "display_name": "Python 3",
   "language": "python",
   "name": "python3"
  },
  "language_info": {
   "codemirror_mode": {
    "name": "ipython",
    "version": 3
   },
   "file_extension": ".py",
   "mimetype": "text/x-python",
   "name": "python",
   "nbconvert_exporter": "python",
   "pygments_lexer": "ipython3",
   "version": "3.8.8"
  }
 },
 "nbformat": 4,
 "nbformat_minor": 5
}
