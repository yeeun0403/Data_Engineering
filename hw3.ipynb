{
 "cells": [
  {
   "cell_type": "code",
   "execution_count": 2,
   "id": "d1a49f0d-c0de-44c1-8a32-0c8dd9d36b30",
   "metadata": {},
   "outputs": [],
   "source": [
    "import numpy as np\n",
    "import pandas as pd"
   ]
  },
  {
   "cell_type": "code",
   "execution_count": 3,
   "id": "9717d2f2-5054-45d3-85bf-f3a1f687fbf0",
   "metadata": {},
   "outputs": [],
   "source": [
    "hairstyles = [\"bouffant\", \"pixie\", \"dreadlocks\", \"crew\", \"bowl\", \"bob\", \"mohawk\", \"flattop\"]\n",
    "prices = [30, 25, 40, 20, 20, 35, 50, 35]\n",
    "last_week = [2, 3, 5, 8, 4, 4, 6, 2]"
   ]
  },
  {
   "cell_type": "code",
   "execution_count": 11,
   "id": "6622c5d8-171e-4748-817a-7cf3bc4f5ac5",
   "metadata": {},
   "outputs": [
    {
     "name": "stdout",
     "output_type": "stream",
     "text": [
      "Average price is  31.875\n",
      "[25, 20, 35, 15, 15, 30, 45, 30]\n",
      "1085\n",
      "Average daily revenue is  155.0\n",
      "['bouffant', 'pixie', 'crew', 'bowl']\n"
     ]
    }
   ],
   "source": [
    "# prices and Cuts\n",
    "\n",
    "\n",
    "#  1~2 코드\n",
    "total_price = 0\n",
    "total_price = np.array(prices)\n",
    "total_price = np.sum(prices)\n",
    "\n",
    "# 3~4 코드\n",
    "average_price = total_price / len(prices)\n",
    "print(\"Average price is \", average_price)\n",
    "\n",
    "# 5~6 코드\n",
    "new_prices = [prices -5 for prices in prices]\n",
    "print(new_prices)\n",
    "\n",
    "# 7~10 코드\n",
    "total_revenue = 0\n",
    "for i in range(0,len(hairstyles)):\n",
    "    total_revenue += prices[i] * last_week[i]\n",
    "print(total_revenue)\n",
    "\n",
    "# 11 코드\n",
    "average_daily_revenue = total_revenue / 7\n",
    "print(\"Average daily revenue is \", average_daily_revenue)\n",
    "\n",
    "# 12~13 코드\n",
    "cuts_under_30 = [hairstyles[i] for i in range(0,len(new_prices)-1) if new_prices[i] < 30]\n",
    "print(cuts_under_30)"
   ]
  },
  {
   "cell_type": "code",
   "execution_count": null,
   "id": "7675f090-1bf7-484c-8884-dd5131a1edd8",
   "metadata": {},
   "outputs": [],
   "source": []
  }
 ],
 "metadata": {
  "kernelspec": {
   "display_name": "Python 3",
   "language": "python",
   "name": "python3"
  },
  "language_info": {
   "codemirror_mode": {
    "name": "ipython",
    "version": 3
   },
   "file_extension": ".py",
   "mimetype": "text/x-python",
   "name": "python",
   "nbconvert_exporter": "python",
   "pygments_lexer": "ipython3",
   "version": "3.8.8"
  }
 },
 "nbformat": 4,
 "nbformat_minor": 5
}
